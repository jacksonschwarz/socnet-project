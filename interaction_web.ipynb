{
 "cells": [
  {
   "cell_type": "code",
   "execution_count": 90,
   "metadata": {},
   "outputs": [],
   "source": [
    "import networkx as nx\n",
    "import json\n",
    "import numpy as np\n",
    "import pandas as pd\n",
    "from functools import reduce"
   ]
  },
  {
   "cell_type": "code",
   "execution_count": 109,
   "metadata": {},
   "outputs": [],
   "source": [
    "usernames=[\n",
    "    \"Bonzo30507613\",\n",
    "    \"JanSchm61866981\",\n",
    "    \"ggarcia238\",\n",
    "    \"MaeWest52499669\",\n",
    "    \"Horam2017\",\n",
    "    \"LisaLov80831185\",\n",
    "    \"ChrisOBXnc\",\n",
    "    \"HULSEYR7\", \n",
    "    \"kjbtazz\", \n",
    "    \"Tko77457444\", \n",
    "    \"godcountryfami2\", \n",
    "    \"BetsyGBJ9328\", \n",
    "    \"jolady42\", \n",
    "]\n",
    "friends_data={}\n",
    "followers_data={}\n",
    "for uname in usernames:\n",
    "    infile=open(\"friends_data/\"+uname+\"_friends_data.json\", \"r\").read()\n",
    "    friends_data[uname]=(json.loads(infile))[uname]\n",
    "for uname in usernames:\n",
    "    infile=open(\"followers_data/\"+uname+\"_followers_data.json\", \"r\").read()\n",
    "    followers_data[uname]=(json.loads(infile))[uname]"
   ]
  },
  {
   "cell_type": "code",
   "execution_count": 110,
   "metadata": {},
   "outputs": [
    {
     "name": "stdout",
     "output_type": "stream",
     "text": [
      "1\n",
      "2\n",
      "3\n",
      "4\n",
      "5\n",
      "6\n",
      "7\n",
      "8\n",
      "9\n",
      "10\n",
      "11\n",
      "12\n"
     ]
    },
    {
     "data": {
      "text/plain": [
       "array([], dtype=int64)"
      ]
     },
     "execution_count": 110,
     "metadata": {},
     "output_type": "execute_result"
    }
   ],
   "source": [
    "followers_array_2d=[np.array(followers_data[usernames[0]])]\n",
    "for i in range(1, len(usernames)):\n",
    "    print(len(followers_array_2d))\n",
    "    newArray=np.array(followers_data[usernames[i]])\n",
    "    followers_array_2d.append(newArray)\n",
    "followers_array_2d=tuple(followers_array_2d)\n",
    "reduce(np.intersect1d, followers_array_2d)"
   ]
  },
  {
   "cell_type": "code",
   "execution_count": 129,
   "metadata": {},
   "outputs": [
    {
     "data": {
      "text/plain": [
       "{'Bonzo30507613': 21,\n",
       " 'JanSchm61866981': 0,\n",
       " 'ggarcia238': 0,\n",
       " 'MaeWest52499669': 120,\n",
       " 'Horam2017': 15,\n",
       " 'LisaLov80831185': 25,\n",
       " 'ChrisOBXnc': 5938,\n",
       " 'HULSEYR7': 3315,\n",
       " 'kjbtazz': 3428,\n",
       " 'Tko77457444': 1052,\n",
       " 'godcountryfami2': 383,\n",
       " 'BetsyGBJ9328': 671,\n",
       " 'jolady42': 55}"
      ]
     },
     "execution_count": 129,
     "metadata": {},
     "output_type": "execute_result"
    }
   ],
   "source": [
    "followers_and_friends=[]\n",
    "amount_of_doubles={}\n",
    "for uname in usernames:\n",
    "    user_followers=np.array(followers_data[uname])\n",
    "    user_friends=np.array(friends_data[uname])\n",
    "    intersection=reduce(np.intersect1d, (user_followers, user_friends))\n",
    "    amount_of_doubles[uname]=len(intersection)\n",
    "    followers_and_friends.append(intersection)\n",
    "\n",
    "amount_of_doubles"
   ]
  },
  {
   "cell_type": "code",
   "execution_count": null,
   "metadata": {},
   "outputs": [],
   "source": []
  },
  {
   "cell_type": "code",
   "execution_count": null,
   "metadata": {},
   "outputs": [],
   "source": []
  }
 ],
 "metadata": {
  "kernelspec": {
   "display_name": "Python 3",
   "language": "python",
   "name": "python3"
  },
  "language_info": {
   "codemirror_mode": {
    "name": "ipython",
    "version": 3
   },
   "file_extension": ".py",
   "mimetype": "text/x-python",
   "name": "python",
   "nbconvert_exporter": "python",
   "pygments_lexer": "ipython3",
   "version": "3.6.5"
  }
 },
 "nbformat": 4,
 "nbformat_minor": 2
}
